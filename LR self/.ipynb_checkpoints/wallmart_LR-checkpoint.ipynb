{
 "cells": [
  {
   "cell_type": "code",
   "execution_count": 23,
   "id": "d659816e-70ad-416f-a628-72ac1ed21a07",
   "metadata": {},
   "outputs": [],
   "source": [
    "import pandas as pd\n",
    "import numpy as np\n",
    "import matplotlib.pyplot as plt\n",
    "import seaborn as sns\n",
    "from sklearn.linear_model import LinearRegression"
   ]
  },
  {
   "cell_type": "code",
   "execution_count": 2,
   "id": "e2fa2e58-3ce5-43a8-8bd6-579e7c2fb5ba",
   "metadata": {},
   "outputs": [],
   "source": [
    "df = pd.read_csv(\"Walmart_Sales.csv\")"
   ]
  },
  {
   "cell_type": "code",
   "execution_count": 3,
   "id": "1891977d-0b3d-4475-8ffd-65c4da20c817",
   "metadata": {},
   "outputs": [
    {
     "data": {
      "text/html": [
       "<div>\n",
       "<style scoped>\n",
       "    .dataframe tbody tr th:only-of-type {\n",
       "        vertical-align: middle;\n",
       "    }\n",
       "\n",
       "    .dataframe tbody tr th {\n",
       "        vertical-align: top;\n",
       "    }\n",
       "\n",
       "    .dataframe thead th {\n",
       "        text-align: right;\n",
       "    }\n",
       "</style>\n",
       "<table border=\"1\" class=\"dataframe\">\n",
       "  <thead>\n",
       "    <tr style=\"text-align: right;\">\n",
       "      <th></th>\n",
       "      <th>Store</th>\n",
       "      <th>Date</th>\n",
       "      <th>Weekly_Sales</th>\n",
       "      <th>Holiday_Flag</th>\n",
       "      <th>Temperature</th>\n",
       "      <th>Fuel_Price</th>\n",
       "      <th>CPI</th>\n",
       "      <th>Unemployment</th>\n",
       "    </tr>\n",
       "  </thead>\n",
       "  <tbody>\n",
       "    <tr>\n",
       "      <th>0</th>\n",
       "      <td>1</td>\n",
       "      <td>05-02-2010</td>\n",
       "      <td>1643690.90</td>\n",
       "      <td>0</td>\n",
       "      <td>42.31</td>\n",
       "      <td>2.572</td>\n",
       "      <td>211.096358</td>\n",
       "      <td>8.106</td>\n",
       "    </tr>\n",
       "    <tr>\n",
       "      <th>1</th>\n",
       "      <td>1</td>\n",
       "      <td>12-02-2010</td>\n",
       "      <td>1641957.44</td>\n",
       "      <td>1</td>\n",
       "      <td>38.51</td>\n",
       "      <td>2.548</td>\n",
       "      <td>211.242170</td>\n",
       "      <td>8.106</td>\n",
       "    </tr>\n",
       "    <tr>\n",
       "      <th>2</th>\n",
       "      <td>1</td>\n",
       "      <td>19-02-2010</td>\n",
       "      <td>1611968.17</td>\n",
       "      <td>0</td>\n",
       "      <td>39.93</td>\n",
       "      <td>2.514</td>\n",
       "      <td>211.289143</td>\n",
       "      <td>8.106</td>\n",
       "    </tr>\n",
       "    <tr>\n",
       "      <th>3</th>\n",
       "      <td>1</td>\n",
       "      <td>26-02-2010</td>\n",
       "      <td>1409727.59</td>\n",
       "      <td>0</td>\n",
       "      <td>46.63</td>\n",
       "      <td>2.561</td>\n",
       "      <td>211.319643</td>\n",
       "      <td>8.106</td>\n",
       "    </tr>\n",
       "    <tr>\n",
       "      <th>4</th>\n",
       "      <td>1</td>\n",
       "      <td>05-03-2010</td>\n",
       "      <td>1554806.68</td>\n",
       "      <td>0</td>\n",
       "      <td>46.50</td>\n",
       "      <td>2.625</td>\n",
       "      <td>211.350143</td>\n",
       "      <td>8.106</td>\n",
       "    </tr>\n",
       "    <tr>\n",
       "      <th>5</th>\n",
       "      <td>1</td>\n",
       "      <td>12-03-2010</td>\n",
       "      <td>1439541.59</td>\n",
       "      <td>0</td>\n",
       "      <td>57.79</td>\n",
       "      <td>2.667</td>\n",
       "      <td>211.380643</td>\n",
       "      <td>8.106</td>\n",
       "    </tr>\n",
       "    <tr>\n",
       "      <th>6</th>\n",
       "      <td>1</td>\n",
       "      <td>19-03-2010</td>\n",
       "      <td>1472515.79</td>\n",
       "      <td>0</td>\n",
       "      <td>54.58</td>\n",
       "      <td>2.720</td>\n",
       "      <td>211.215635</td>\n",
       "      <td>8.106</td>\n",
       "    </tr>\n",
       "    <tr>\n",
       "      <th>7</th>\n",
       "      <td>1</td>\n",
       "      <td>26-03-2010</td>\n",
       "      <td>1404429.92</td>\n",
       "      <td>0</td>\n",
       "      <td>51.45</td>\n",
       "      <td>2.732</td>\n",
       "      <td>211.018042</td>\n",
       "      <td>8.106</td>\n",
       "    </tr>\n",
       "    <tr>\n",
       "      <th>8</th>\n",
       "      <td>1</td>\n",
       "      <td>02-04-2010</td>\n",
       "      <td>1594968.28</td>\n",
       "      <td>0</td>\n",
       "      <td>62.27</td>\n",
       "      <td>2.719</td>\n",
       "      <td>210.820450</td>\n",
       "      <td>7.808</td>\n",
       "    </tr>\n",
       "    <tr>\n",
       "      <th>9</th>\n",
       "      <td>1</td>\n",
       "      <td>09-04-2010</td>\n",
       "      <td>1545418.53</td>\n",
       "      <td>0</td>\n",
       "      <td>65.86</td>\n",
       "      <td>2.770</td>\n",
       "      <td>210.622857</td>\n",
       "      <td>7.808</td>\n",
       "    </tr>\n",
       "    <tr>\n",
       "      <th>10</th>\n",
       "      <td>1</td>\n",
       "      <td>16-04-2010</td>\n",
       "      <td>1466058.28</td>\n",
       "      <td>0</td>\n",
       "      <td>66.32</td>\n",
       "      <td>2.808</td>\n",
       "      <td>210.488700</td>\n",
       "      <td>7.808</td>\n",
       "    </tr>\n",
       "    <tr>\n",
       "      <th>11</th>\n",
       "      <td>1</td>\n",
       "      <td>23-04-2010</td>\n",
       "      <td>1391256.12</td>\n",
       "      <td>0</td>\n",
       "      <td>64.84</td>\n",
       "      <td>2.795</td>\n",
       "      <td>210.439123</td>\n",
       "      <td>7.808</td>\n",
       "    </tr>\n",
       "    <tr>\n",
       "      <th>12</th>\n",
       "      <td>1</td>\n",
       "      <td>30-04-2010</td>\n",
       "      <td>1425100.71</td>\n",
       "      <td>0</td>\n",
       "      <td>67.41</td>\n",
       "      <td>2.780</td>\n",
       "      <td>210.389546</td>\n",
       "      <td>7.808</td>\n",
       "    </tr>\n",
       "    <tr>\n",
       "      <th>13</th>\n",
       "      <td>1</td>\n",
       "      <td>07-05-2010</td>\n",
       "      <td>1603955.12</td>\n",
       "      <td>0</td>\n",
       "      <td>72.55</td>\n",
       "      <td>2.835</td>\n",
       "      <td>210.339968</td>\n",
       "      <td>7.808</td>\n",
       "    </tr>\n",
       "    <tr>\n",
       "      <th>14</th>\n",
       "      <td>1</td>\n",
       "      <td>14-05-2010</td>\n",
       "      <td>1494251.50</td>\n",
       "      <td>0</td>\n",
       "      <td>74.78</td>\n",
       "      <td>2.854</td>\n",
       "      <td>210.337426</td>\n",
       "      <td>7.808</td>\n",
       "    </tr>\n",
       "    <tr>\n",
       "      <th>15</th>\n",
       "      <td>1</td>\n",
       "      <td>21-05-2010</td>\n",
       "      <td>1399662.07</td>\n",
       "      <td>0</td>\n",
       "      <td>76.44</td>\n",
       "      <td>2.826</td>\n",
       "      <td>210.617093</td>\n",
       "      <td>7.808</td>\n",
       "    </tr>\n",
       "    <tr>\n",
       "      <th>16</th>\n",
       "      <td>1</td>\n",
       "      <td>28-05-2010</td>\n",
       "      <td>1432069.95</td>\n",
       "      <td>0</td>\n",
       "      <td>80.44</td>\n",
       "      <td>2.759</td>\n",
       "      <td>210.896761</td>\n",
       "      <td>7.808</td>\n",
       "    </tr>\n",
       "    <tr>\n",
       "      <th>17</th>\n",
       "      <td>1</td>\n",
       "      <td>04-06-2010</td>\n",
       "      <td>1615524.71</td>\n",
       "      <td>0</td>\n",
       "      <td>80.69</td>\n",
       "      <td>2.705</td>\n",
       "      <td>211.176428</td>\n",
       "      <td>7.808</td>\n",
       "    </tr>\n",
       "    <tr>\n",
       "      <th>18</th>\n",
       "      <td>1</td>\n",
       "      <td>11-06-2010</td>\n",
       "      <td>1542561.09</td>\n",
       "      <td>0</td>\n",
       "      <td>80.43</td>\n",
       "      <td>2.668</td>\n",
       "      <td>211.456095</td>\n",
       "      <td>7.808</td>\n",
       "    </tr>\n",
       "    <tr>\n",
       "      <th>19</th>\n",
       "      <td>1</td>\n",
       "      <td>18-06-2010</td>\n",
       "      <td>1503284.06</td>\n",
       "      <td>0</td>\n",
       "      <td>84.11</td>\n",
       "      <td>2.637</td>\n",
       "      <td>211.453772</td>\n",
       "      <td>7.808</td>\n",
       "    </tr>\n",
       "  </tbody>\n",
       "</table>\n",
       "</div>"
      ],
      "text/plain": [
       "    Store        Date  Weekly_Sales  Holiday_Flag  Temperature  Fuel_Price  \\\n",
       "0       1  05-02-2010    1643690.90             0        42.31       2.572   \n",
       "1       1  12-02-2010    1641957.44             1        38.51       2.548   \n",
       "2       1  19-02-2010    1611968.17             0        39.93       2.514   \n",
       "3       1  26-02-2010    1409727.59             0        46.63       2.561   \n",
       "4       1  05-03-2010    1554806.68             0        46.50       2.625   \n",
       "5       1  12-03-2010    1439541.59             0        57.79       2.667   \n",
       "6       1  19-03-2010    1472515.79             0        54.58       2.720   \n",
       "7       1  26-03-2010    1404429.92             0        51.45       2.732   \n",
       "8       1  02-04-2010    1594968.28             0        62.27       2.719   \n",
       "9       1  09-04-2010    1545418.53             0        65.86       2.770   \n",
       "10      1  16-04-2010    1466058.28             0        66.32       2.808   \n",
       "11      1  23-04-2010    1391256.12             0        64.84       2.795   \n",
       "12      1  30-04-2010    1425100.71             0        67.41       2.780   \n",
       "13      1  07-05-2010    1603955.12             0        72.55       2.835   \n",
       "14      1  14-05-2010    1494251.50             0        74.78       2.854   \n",
       "15      1  21-05-2010    1399662.07             0        76.44       2.826   \n",
       "16      1  28-05-2010    1432069.95             0        80.44       2.759   \n",
       "17      1  04-06-2010    1615524.71             0        80.69       2.705   \n",
       "18      1  11-06-2010    1542561.09             0        80.43       2.668   \n",
       "19      1  18-06-2010    1503284.06             0        84.11       2.637   \n",
       "\n",
       "           CPI  Unemployment  \n",
       "0   211.096358         8.106  \n",
       "1   211.242170         8.106  \n",
       "2   211.289143         8.106  \n",
       "3   211.319643         8.106  \n",
       "4   211.350143         8.106  \n",
       "5   211.380643         8.106  \n",
       "6   211.215635         8.106  \n",
       "7   211.018042         8.106  \n",
       "8   210.820450         7.808  \n",
       "9   210.622857         7.808  \n",
       "10  210.488700         7.808  \n",
       "11  210.439123         7.808  \n",
       "12  210.389546         7.808  \n",
       "13  210.339968         7.808  \n",
       "14  210.337426         7.808  \n",
       "15  210.617093         7.808  \n",
       "16  210.896761         7.808  \n",
       "17  211.176428         7.808  \n",
       "18  211.456095         7.808  \n",
       "19  211.453772         7.808  "
      ]
     },
     "execution_count": 3,
     "metadata": {},
     "output_type": "execute_result"
    }
   ],
   "source": [
    "df.head(20)"
   ]
  },
  {
   "cell_type": "code",
   "execution_count": 4,
   "id": "febca778-bd2a-4e05-bda1-070ae3ab8339",
   "metadata": {},
   "outputs": [
    {
     "data": {
      "text/plain": [
       "Store           0\n",
       "Date            0\n",
       "Weekly_Sales    0\n",
       "Holiday_Flag    0\n",
       "Temperature     0\n",
       "Fuel_Price      0\n",
       "CPI             0\n",
       "Unemployment    0\n",
       "dtype: int64"
      ]
     },
     "execution_count": 4,
     "metadata": {},
     "output_type": "execute_result"
    }
   ],
   "source": [
    "df.isnull().sum()"
   ]
  },
  {
   "cell_type": "code",
   "execution_count": 5,
   "id": "490ee27f-c12f-49b2-b90b-cbce37b78f5f",
   "metadata": {},
   "outputs": [
    {
     "data": {
      "text/plain": [
       "Holiday_Flag\n",
       "0    5985\n",
       "1     450\n",
       "Name: count, dtype: int64"
      ]
     },
     "execution_count": 5,
     "metadata": {},
     "output_type": "execute_result"
    }
   ],
   "source": [
    "df['Holiday_Flag'].value_counts()"
   ]
  },
  {
   "cell_type": "code",
   "execution_count": 9,
   "id": "aca4cba9-8241-4cf4-a881-b8f0934f8fef",
   "metadata": {},
   "outputs": [],
   "source": [
    "# for col in df.columns:\n",
    "#     print(df[col].value_counts())"
   ]
  },
  {
   "cell_type": "code",
   "execution_count": 10,
   "id": "9258fedf-30e1-4055-ae9f-acd8b0710c37",
   "metadata": {},
   "outputs": [
    {
     "name": "stdout",
     "output_type": "stream",
     "text": [
      "\n",
      "Column: Store\n",
      "Store\n",
      "1     143\n",
      "24    143\n",
      "26    143\n",
      "27    143\n",
      "28    143\n",
      "29    143\n",
      "30    143\n",
      "31    143\n",
      "32    143\n",
      "33    143\n",
      "34    143\n",
      "35    143\n",
      "36    143\n",
      "37    143\n",
      "38    143\n",
      "39    143\n",
      "40    143\n",
      "41    143\n",
      "42    143\n",
      "43    143\n",
      "44    143\n",
      "25    143\n",
      "23    143\n",
      "2     143\n",
      "22    143\n",
      "3     143\n",
      "4     143\n",
      "5     143\n",
      "6     143\n",
      "7     143\n",
      "8     143\n",
      "9     143\n",
      "10    143\n",
      "11    143\n",
      "12    143\n",
      "13    143\n",
      "14    143\n",
      "15    143\n",
      "16    143\n",
      "17    143\n",
      "18    143\n",
      "19    143\n",
      "20    143\n",
      "21    143\n",
      "45    143\n",
      "Name: count, dtype: int64\n",
      "\n",
      "Column: Date\n",
      "Date\n",
      "05-02-2010    45\n",
      "23-12-2011    45\n",
      "11-11-2011    45\n",
      "18-11-2011    45\n",
      "25-11-2011    45\n",
      "              ..\n",
      "07-01-2011    45\n",
      "14-01-2011    45\n",
      "21-01-2011    45\n",
      "28-01-2011    45\n",
      "26-10-2012    45\n",
      "Name: count, Length: 143, dtype: int64\n",
      "\n",
      "Column: Weekly_Sales\n",
      "Weekly_Sales\n",
      "1643690.90    1\n",
      "446751.45     1\n",
      "1332261.01    1\n",
      "1366193.35    1\n",
      "1384870.51    1\n",
      "             ..\n",
      "551799.63     1\n",
      "573498.64     1\n",
      "553901.97     1\n",
      "533161.64     1\n",
      "760281.43     1\n",
      "Name: count, Length: 6435, dtype: int64\n",
      "\n",
      "Column: Holiday_Flag\n",
      "Holiday_Flag\n",
      "0    5985\n",
      "1     450\n",
      "Name: count, dtype: int64\n",
      "\n",
      "Column: Temperature\n",
      "Temperature\n",
      "50.43    11\n",
      "67.87    10\n",
      "76.67     9\n",
      "76.03     9\n",
      "70.28     9\n",
      "         ..\n",
      "34.93     1\n",
      "38.53     1\n",
      "41.10     1\n",
      "45.54     1\n",
      "74.09     1\n",
      "Name: count, Length: 3528, dtype: int64\n",
      "\n",
      "Column: Fuel_Price\n",
      "Fuel_Price\n",
      "3.638    39\n",
      "3.630    34\n",
      "2.771    29\n",
      "3.891    29\n",
      "3.524    28\n",
      "         ..\n",
      "2.863     1\n",
      "2.995     1\n",
      "3.053     1\n",
      "3.448     1\n",
      "3.576     1\n",
      "Name: count, Length: 892, dtype: int64\n",
      "\n",
      "Column: CPI\n",
      "CPI\n",
      "130.550207    11\n",
      "129.043200    11\n",
      "127.580032    11\n",
      "127.440484    11\n",
      "127.300935    11\n",
      "              ..\n",
      "214.751084     1\n",
      "214.815521     1\n",
      "214.961638     1\n",
      "215.107755     1\n",
      "214.741539     1\n",
      "Name: count, Length: 2145, dtype: int64\n",
      "\n",
      "Column: Unemployment\n",
      "Unemployment\n",
      "8.099    78\n",
      "8.163    56\n",
      "7.852    56\n",
      "8.200    52\n",
      "6.565    52\n",
      "         ..\n",
      "7.138     4\n",
      "8.665     4\n",
      "8.000     4\n",
      "9.151     4\n",
      "5.217     4\n",
      "Name: count, Length: 349, dtype: int64\n"
     ]
    }
   ],
   "source": [
    "for col in df.columns:\n",
    "    print(f\"\\nColumn: {col}\")\n",
    "    print(df[col].value_counts())\n"
   ]
  },
  {
   "cell_type": "code",
   "execution_count": 13,
   "id": "5d9a2a18-0aa5-444e-b385-5060e32ca9b6",
   "metadata": {},
   "outputs": [],
   "source": [
    "df = df.drop('Date',axis = 1)"
   ]
  },
  {
   "cell_type": "code",
   "execution_count": 14,
   "id": "f4d05b1c-0bf4-4098-9326-d118ea24d961",
   "metadata": {},
   "outputs": [
    {
     "data": {
      "text/html": [
       "<div>\n",
       "<style scoped>\n",
       "    .dataframe tbody tr th:only-of-type {\n",
       "        vertical-align: middle;\n",
       "    }\n",
       "\n",
       "    .dataframe tbody tr th {\n",
       "        vertical-align: top;\n",
       "    }\n",
       "\n",
       "    .dataframe thead th {\n",
       "        text-align: right;\n",
       "    }\n",
       "</style>\n",
       "<table border=\"1\" class=\"dataframe\">\n",
       "  <thead>\n",
       "    <tr style=\"text-align: right;\">\n",
       "      <th></th>\n",
       "      <th>Store</th>\n",
       "      <th>Weekly_Sales</th>\n",
       "      <th>Holiday_Flag</th>\n",
       "      <th>Temperature</th>\n",
       "      <th>Fuel_Price</th>\n",
       "      <th>CPI</th>\n",
       "      <th>Unemployment</th>\n",
       "    </tr>\n",
       "  </thead>\n",
       "  <tbody>\n",
       "    <tr>\n",
       "      <th>0</th>\n",
       "      <td>1</td>\n",
       "      <td>1643690.90</td>\n",
       "      <td>0</td>\n",
       "      <td>42.31</td>\n",
       "      <td>2.572</td>\n",
       "      <td>211.096358</td>\n",
       "      <td>8.106</td>\n",
       "    </tr>\n",
       "    <tr>\n",
       "      <th>1</th>\n",
       "      <td>1</td>\n",
       "      <td>1641957.44</td>\n",
       "      <td>1</td>\n",
       "      <td>38.51</td>\n",
       "      <td>2.548</td>\n",
       "      <td>211.242170</td>\n",
       "      <td>8.106</td>\n",
       "    </tr>\n",
       "    <tr>\n",
       "      <th>2</th>\n",
       "      <td>1</td>\n",
       "      <td>1611968.17</td>\n",
       "      <td>0</td>\n",
       "      <td>39.93</td>\n",
       "      <td>2.514</td>\n",
       "      <td>211.289143</td>\n",
       "      <td>8.106</td>\n",
       "    </tr>\n",
       "    <tr>\n",
       "      <th>3</th>\n",
       "      <td>1</td>\n",
       "      <td>1409727.59</td>\n",
       "      <td>0</td>\n",
       "      <td>46.63</td>\n",
       "      <td>2.561</td>\n",
       "      <td>211.319643</td>\n",
       "      <td>8.106</td>\n",
       "    </tr>\n",
       "    <tr>\n",
       "      <th>4</th>\n",
       "      <td>1</td>\n",
       "      <td>1554806.68</td>\n",
       "      <td>0</td>\n",
       "      <td>46.50</td>\n",
       "      <td>2.625</td>\n",
       "      <td>211.350143</td>\n",
       "      <td>8.106</td>\n",
       "    </tr>\n",
       "  </tbody>\n",
       "</table>\n",
       "</div>"
      ],
      "text/plain": [
       "   Store  Weekly_Sales  Holiday_Flag  Temperature  Fuel_Price         CPI  \\\n",
       "0      1    1643690.90             0        42.31       2.572  211.096358   \n",
       "1      1    1641957.44             1        38.51       2.548  211.242170   \n",
       "2      1    1611968.17             0        39.93       2.514  211.289143   \n",
       "3      1    1409727.59             0        46.63       2.561  211.319643   \n",
       "4      1    1554806.68             0        46.50       2.625  211.350143   \n",
       "\n",
       "   Unemployment  \n",
       "0         8.106  \n",
       "1         8.106  \n",
       "2         8.106  \n",
       "3         8.106  \n",
       "4         8.106  "
      ]
     },
     "execution_count": 14,
     "metadata": {},
     "output_type": "execute_result"
    }
   ],
   "source": [
    "df.head()"
   ]
  },
  {
   "cell_type": "code",
   "execution_count": 52,
   "id": "a8d790d8-ca6a-4217-a80f-e3c1c1c46b9e",
   "metadata": {},
   "outputs": [],
   "source": [
    "x = df[['Store','Holiday_Flag','Temperature','Fuel_Price','CPI','Unemployment']]\n",
    "y = np.array(df['Weekly_Sales'])"
   ]
  },
  {
   "cell_type": "code",
   "execution_count": 53,
   "id": "b4cf4b33-58f2-4124-8d1a-d2179d3e7c46",
   "metadata": {},
   "outputs": [
    {
     "data": {
      "text/html": [
       "<div>\n",
       "<style scoped>\n",
       "    .dataframe tbody tr th:only-of-type {\n",
       "        vertical-align: middle;\n",
       "    }\n",
       "\n",
       "    .dataframe tbody tr th {\n",
       "        vertical-align: top;\n",
       "    }\n",
       "\n",
       "    .dataframe thead th {\n",
       "        text-align: right;\n",
       "    }\n",
       "</style>\n",
       "<table border=\"1\" class=\"dataframe\">\n",
       "  <thead>\n",
       "    <tr style=\"text-align: right;\">\n",
       "      <th></th>\n",
       "      <th>Store</th>\n",
       "      <th>Holiday_Flag</th>\n",
       "      <th>Temperature</th>\n",
       "      <th>Fuel_Price</th>\n",
       "      <th>CPI</th>\n",
       "      <th>Unemployment</th>\n",
       "    </tr>\n",
       "  </thead>\n",
       "  <tbody>\n",
       "    <tr>\n",
       "      <th>0</th>\n",
       "      <td>1</td>\n",
       "      <td>0</td>\n",
       "      <td>42.31</td>\n",
       "      <td>2.572</td>\n",
       "      <td>211.096358</td>\n",
       "      <td>8.106</td>\n",
       "    </tr>\n",
       "    <tr>\n",
       "      <th>1</th>\n",
       "      <td>1</td>\n",
       "      <td>1</td>\n",
       "      <td>38.51</td>\n",
       "      <td>2.548</td>\n",
       "      <td>211.242170</td>\n",
       "      <td>8.106</td>\n",
       "    </tr>\n",
       "    <tr>\n",
       "      <th>2</th>\n",
       "      <td>1</td>\n",
       "      <td>0</td>\n",
       "      <td>39.93</td>\n",
       "      <td>2.514</td>\n",
       "      <td>211.289143</td>\n",
       "      <td>8.106</td>\n",
       "    </tr>\n",
       "    <tr>\n",
       "      <th>3</th>\n",
       "      <td>1</td>\n",
       "      <td>0</td>\n",
       "      <td>46.63</td>\n",
       "      <td>2.561</td>\n",
       "      <td>211.319643</td>\n",
       "      <td>8.106</td>\n",
       "    </tr>\n",
       "    <tr>\n",
       "      <th>4</th>\n",
       "      <td>1</td>\n",
       "      <td>0</td>\n",
       "      <td>46.50</td>\n",
       "      <td>2.625</td>\n",
       "      <td>211.350143</td>\n",
       "      <td>8.106</td>\n",
       "    </tr>\n",
       "    <tr>\n",
       "      <th>...</th>\n",
       "      <td>...</td>\n",
       "      <td>...</td>\n",
       "      <td>...</td>\n",
       "      <td>...</td>\n",
       "      <td>...</td>\n",
       "      <td>...</td>\n",
       "    </tr>\n",
       "    <tr>\n",
       "      <th>6430</th>\n",
       "      <td>45</td>\n",
       "      <td>0</td>\n",
       "      <td>64.88</td>\n",
       "      <td>3.997</td>\n",
       "      <td>192.013558</td>\n",
       "      <td>8.684</td>\n",
       "    </tr>\n",
       "    <tr>\n",
       "      <th>6431</th>\n",
       "      <td>45</td>\n",
       "      <td>0</td>\n",
       "      <td>64.89</td>\n",
       "      <td>3.985</td>\n",
       "      <td>192.170412</td>\n",
       "      <td>8.667</td>\n",
       "    </tr>\n",
       "    <tr>\n",
       "      <th>6432</th>\n",
       "      <td>45</td>\n",
       "      <td>0</td>\n",
       "      <td>54.47</td>\n",
       "      <td>4.000</td>\n",
       "      <td>192.327265</td>\n",
       "      <td>8.667</td>\n",
       "    </tr>\n",
       "    <tr>\n",
       "      <th>6433</th>\n",
       "      <td>45</td>\n",
       "      <td>0</td>\n",
       "      <td>56.47</td>\n",
       "      <td>3.969</td>\n",
       "      <td>192.330854</td>\n",
       "      <td>8.667</td>\n",
       "    </tr>\n",
       "    <tr>\n",
       "      <th>6434</th>\n",
       "      <td>45</td>\n",
       "      <td>0</td>\n",
       "      <td>58.85</td>\n",
       "      <td>3.882</td>\n",
       "      <td>192.308899</td>\n",
       "      <td>8.667</td>\n",
       "    </tr>\n",
       "  </tbody>\n",
       "</table>\n",
       "<p>6435 rows × 6 columns</p>\n",
       "</div>"
      ],
      "text/plain": [
       "      Store  Holiday_Flag  Temperature  Fuel_Price         CPI  Unemployment\n",
       "0         1             0        42.31       2.572  211.096358         8.106\n",
       "1         1             1        38.51       2.548  211.242170         8.106\n",
       "2         1             0        39.93       2.514  211.289143         8.106\n",
       "3         1             0        46.63       2.561  211.319643         8.106\n",
       "4         1             0        46.50       2.625  211.350143         8.106\n",
       "...     ...           ...          ...         ...         ...           ...\n",
       "6430     45             0        64.88       3.997  192.013558         8.684\n",
       "6431     45             0        64.89       3.985  192.170412         8.667\n",
       "6432     45             0        54.47       4.000  192.327265         8.667\n",
       "6433     45             0        56.47       3.969  192.330854         8.667\n",
       "6434     45             0        58.85       3.882  192.308899         8.667\n",
       "\n",
       "[6435 rows x 6 columns]"
      ]
     },
     "execution_count": 53,
     "metadata": {},
     "output_type": "execute_result"
    }
   ],
   "source": [
    "x"
   ]
  },
  {
   "cell_type": "code",
   "execution_count": 54,
   "id": "ee7003a1-397a-40be-8967-4159c362513d",
   "metadata": {},
   "outputs": [
    {
     "data": {
      "text/plain": [
       "array([1643690.9 , 1641957.44, 1611968.17, ...,  734464.36,  718125.53,\n",
       "        760281.43])"
      ]
     },
     "execution_count": 54,
     "metadata": {},
     "output_type": "execute_result"
    }
   ],
   "source": [
    "y"
   ]
  },
  {
   "cell_type": "code",
   "execution_count": 55,
   "id": "eea12533-7cce-4c5f-8438-69847a3b4db9",
   "metadata": {},
   "outputs": [
    {
     "name": "stdout",
     "output_type": "stream",
     "text": [
      "(6435, 6) (6435,)\n"
     ]
    }
   ],
   "source": [
    "print(x.shape,y.shape)"
   ]
  },
  {
   "cell_type": "code",
   "execution_count": 56,
   "id": "e2f0fde9-9670-4721-a282-948361b7706f",
   "metadata": {},
   "outputs": [
    {
     "data": {
      "image/png": "[encoded data removed]",
      "text/plain": [
       "<Figure size 500x3500 with 1 Axes>"
      ]
     },
     "metadata": {},
     "output_type": "display_data"
    },
    {
     "data": {
      "image/png": "[encoded data removed]",
      "text/plain": [
       "<Figure size 500x3500 with 1 Axes>"
      ]
     },
     "metadata": {},
     "output_type": "display_data"
    },
    {
     "data": {
      "image/png": "[encoded data removed]",
      "text/plain": [
       "<Figure size 500x3500 with 1 Axes>"
      ]
     },
     "metadata": {},
     "output_type": "display_data"
    },
    {
     "data": {
      "image/png": "[encoded data removed]",
      "text/plain": [
       "<Figure size 500x3500 with 1 Axes>"
      ]
     },
     "metadata": {},
     "output_type": "display_data"
    },
    {
     "data": {
      "image/png": "[encoded data removed]",
      "text/plain": [
       "<Figure size 500x3500 with 1 Axes>"
      ]
     },
     "metadata": {},
     "output_type": "display_data"
    },
    {
     "data": {
      "image/png": "[encoded data removed]",
      "text/plain": [
       "<Figure size 500x3500 with 1 Axes>"
      ]
     },
     "metadata": {},
     "output_type": "display_data"
    }
   ],
   "source": [
    "i = 1\n",
    "for col in x.columns:\n",
    "    plt.figure(figsize=(5,35))\n",
    "    plt.subplot(8,1,i)\n",
    "    i+=1\n",
    "    plt.scatter(x[col],y)\n",
    "    plt.show()"
   ]
  },
  {
   "cell_type": "code",
   "execution_count": 57,
   "id": "7203cb63-c6ab-43d5-b184-6e6340595bf1",
   "metadata": {},
   "outputs": [],
   "source": [
    "corr = x.corr() "
   ]
  },
  {
   "cell_type": "code",
   "execution_count": 58,
   "id": "8a912c82-9df7-4490-b7bc-16be752e6394",
   "metadata": {},
   "outputs": [
    {
     "data": {
      "text/html": [
       "<div>\n",
       "<style scoped>\n",
       "    .dataframe tbody tr th:only-of-type {\n",
       "        vertical-align: middle;\n",
       "    }\n",
       "\n",
       "    .dataframe tbody tr th {\n",
       "        vertical-align: top;\n",
       "    }\n",
       "\n",
       "    .dataframe thead th {\n",
       "        text-align: right;\n",
       "    }\n",
       "</style>\n",
       "<table border=\"1\" class=\"dataframe\">\n",
       "  <thead>\n",
       "    <tr style=\"text-align: right;\">\n",
       "      <th></th>\n",
       "      <th>Store</th>\n",
       "      <th>Holiday_Flag</th>\n",
       "      <th>Temperature</th>\n",
       "      <th>Fuel_Price</th>\n",
       "      <th>CPI</th>\n",
       "      <th>Unemployment</th>\n",
       "    </tr>\n",
       "  </thead>\n",
       "  <tbody>\n",
       "    <tr>\n",
       "      <th>Store</th>\n",
       "      <td>1.000000e+00</td>\n",
       "      <td>-4.386841e-16</td>\n",
       "      <td>-0.022659</td>\n",
       "      <td>0.060023</td>\n",
       "      <td>-0.209492</td>\n",
       "      <td>0.223531</td>\n",
       "    </tr>\n",
       "    <tr>\n",
       "      <th>Holiday_Flag</th>\n",
       "      <td>-4.386841e-16</td>\n",
       "      <td>1.000000e+00</td>\n",
       "      <td>-0.155091</td>\n",
       "      <td>-0.078347</td>\n",
       "      <td>-0.002162</td>\n",
       "      <td>0.010960</td>\n",
       "    </tr>\n",
       "    <tr>\n",
       "      <th>Temperature</th>\n",
       "      <td>-2.265908e-02</td>\n",
       "      <td>-1.550913e-01</td>\n",
       "      <td>1.000000</td>\n",
       "      <td>0.144982</td>\n",
       "      <td>0.176888</td>\n",
       "      <td>0.101158</td>\n",
       "    </tr>\n",
       "    <tr>\n",
       "      <th>Fuel_Price</th>\n",
       "      <td>6.002295e-02</td>\n",
       "      <td>-7.834652e-02</td>\n",
       "      <td>0.144982</td>\n",
       "      <td>1.000000</td>\n",
       "      <td>-0.170642</td>\n",
       "      <td>-0.034684</td>\n",
       "    </tr>\n",
       "    <tr>\n",
       "      <th>CPI</th>\n",
       "      <td>-2.094919e-01</td>\n",
       "      <td>-2.162091e-03</td>\n",
       "      <td>0.176888</td>\n",
       "      <td>-0.170642</td>\n",
       "      <td>1.000000</td>\n",
       "      <td>-0.302020</td>\n",
       "    </tr>\n",
       "    <tr>\n",
       "      <th>Unemployment</th>\n",
       "      <td>2.235313e-01</td>\n",
       "      <td>1.096028e-02</td>\n",
       "      <td>0.101158</td>\n",
       "      <td>-0.034684</td>\n",
       "      <td>-0.302020</td>\n",
       "      <td>1.000000</td>\n",
       "    </tr>\n",
       "  </tbody>\n",
       "</table>\n",
       "</div>"
      ],
      "text/plain": [
       "                     Store  Holiday_Flag  Temperature  Fuel_Price       CPI  \\\n",
       "Store         1.000000e+00 -4.386841e-16    -0.022659    0.060023 -0.209492   \n",
       "Holiday_Flag -4.386841e-16  1.000000e+00    -0.155091   -0.078347 -0.002162   \n",
       "Temperature  -2.265908e-02 -1.550913e-01     1.000000    0.144982  0.176888   \n",
       "Fuel_Price    6.002295e-02 -7.834652e-02     0.144982    1.000000 -0.170642   \n",
       "CPI          -2.094919e-01 -2.162091e-03     0.176888   -0.170642  1.000000   \n",
       "Unemployment  2.235313e-01  1.096028e-02     0.101158   -0.034684 -0.302020   \n",
       "\n",
       "              Unemployment  \n",
       "Store             0.223531  \n",
       "Holiday_Flag      0.010960  \n",
       "Temperature       0.101158  \n",
       "Fuel_Price       -0.034684  \n",
       "CPI              -0.302020  \n",
       "Unemployment      1.000000  "
      ]
     },
     "execution_count": 58,
     "metadata": {},
     "output_type": "execute_result"
    }
   ],
   "source": [
    "corr"
   ]
  },
  {
   "cell_type": "code",
   "execution_count": null,
   "id": "228e8d4f-0773-47cd-8f61-112493d3d461",
   "metadata": {},
   "outputs": [],
   "source": []
  },
  {
   "cell_type": "code",
   "execution_count": 59,
   "id": "b9819a83-cd1e-4f87-9478-8f033df7b21f",
   "metadata": {},
   "outputs": [
    {
     "data": {
      "text/plain": [
       "<Axes: >"
      ]
     },
     "execution_count": 59,
     "metadata": {},
     "output_type": "execute_result"
    },
    {
     "data": {
      "image/png": "[encoded data removed]",
      "text/plain": [
       "<Figure size 640x480 with 2 Axes>"
      ]
     },
     "metadata": {},
     "output_type": "display_data"
    }
   ],
   "source": [
    "sns.heatmap(corr,annot = True)"
   ]
  },
  {
   "cell_type": "code",
   "execution_count": 60,
   "id": "36584d7a-7343-4854-b405-7913e4bc7ef8",
   "metadata": {},
   "outputs": [
    {
     "name": "stdout",
     "output_type": "stream",
     "text": [
      "(6435, 6) (6435,)\n"
     ]
    }
   ],
   "source": [
    "print(x.shape,y.shape)"
   ]
  },
  {
   "cell_type": "code",
   "execution_count": 120,
   "id": "30003494-a816-433a-84de-a1e004c228cc",
   "metadata": {},
   "outputs": [],
   "source": [
    "x_train = x[:5000]\n",
    "x_test = x[5000:]\n",
    "y_train = y[:5000]\n",
    "y_test = y[5000:]"
   ]
  },
  {
   "cell_type": "code",
   "execution_count": 121,
   "id": "f2fe7e29-3073-47c9-b3e8-35fa362ba2e6",
   "metadata": {},
   "outputs": [],
   "source": [
    "x_train = np.insert(x_train,0,1,axis =1)"
   ]
  },
  {
   "cell_type": "code",
   "execution_count": 122,
   "id": "ddbc5fa2-2010-4d30-a041-0ffedad7ed40",
   "metadata": {},
   "outputs": [
    {
     "data": {
      "text/plain": [
       "(5000, 7)"
      ]
     },
     "execution_count": 122,
     "metadata": {},
     "output_type": "execute_result"
    }
   ],
   "source": [
    "x_train.shape"
   ]
  },
  {
   "cell_type": "code",
   "execution_count": 123,
   "id": "256687d8-3f01-45a7-8b89-92bf6413d82b",
   "metadata": {},
   "outputs": [],
   "source": [
    "def model_fit(x_train,y_train):\n",
    "    beta = 0\n",
    "    beta = np.linalg.inv(np.dot(x_train.T,x_train)).dot(x_train.T).dot(y_train)\n",
    "    return beta[0],beta[1:]"
   ]
  },
  {
   "cell_type": "code",
   "execution_count": 124,
   "id": "86cdbc36-3b12-4f8c-9b85-419a5694824e",
   "metadata": {},
   "outputs": [],
   "source": [
    "bias,coef = model_fit(x_train,y_train)"
   ]
  },
  {
   "cell_type": "code",
   "execution_count": 125,
   "id": "a6e9acde-660d-4df8-b515-451ee68c64eb",
   "metadata": {},
   "outputs": [
    {
     "data": {
      "text/plain": [
       "2125557.3855874296"
      ]
     },
     "execution_count": 125,
     "metadata": {},
     "output_type": "execute_result"
    }
   ],
   "source": [
    "bias"
   ]
  },
  {
   "cell_type": "code",
   "execution_count": 126,
   "id": "7553242f-987d-4178-86f2-e72b31a0c018",
   "metadata": {},
   "outputs": [
    {
     "data": {
      "text/plain": [
       "array([-1.53663424e+04,  9.90808997e+04,  6.41813010e+01,  8.41998251e+03,\n",
       "       -3.66613728e+03, -1.55672963e+04])"
      ]
     },
     "execution_count": 126,
     "metadata": {},
     "output_type": "execute_result"
    }
   ],
   "source": [
    "coef"
   ]
  },
  {
   "cell_type": "code",
   "execution_count": 127,
   "id": "478a7c0f-acb4-458e-9eee-6df6c09dc984",
   "metadata": {},
   "outputs": [
    {
     "data": {
      "text/plain": [
       "(6,)"
      ]
     },
     "execution_count": 127,
     "metadata": {},
     "output_type": "execute_result"
    }
   ],
   "source": [
    "coef.shape"
   ]
  },
  {
   "cell_type": "code",
   "execution_count": 128,
   "id": "932deee3-c9fe-4f05-a79a-46a52dff61de",
   "metadata": {},
   "outputs": [],
   "source": [
    "def prediction(x_test):\n",
    "    y_pred = np.dot(x_test , coef) + bias\n",
    "    return y_pred"
   ]
  },
  {
   "cell_type": "code",
   "execution_count": 129,
   "id": "15f5bb62-6e13-45d0-abf4-d8e1b8f7d329",
   "metadata": {},
   "outputs": [],
   "source": [
    "y_pred = prediction(x_test)"
   ]
  },
  {
   "cell_type": "code",
   "execution_count": 130,
   "id": "a72cf2c3-6f5e-4ec2-825f-ea40d263a93c",
   "metadata": {},
   "outputs": [
    {
     "data": {
      "text/plain": [
       "(814099.86, 964558.5512056809)"
      ]
     },
     "execution_count": 130,
     "metadata": {},
     "output_type": "execute_result"
    }
   ],
   "source": [
    "y_test[0],y_pred[0]"
   ]
  },
  {
   "cell_type": "code",
   "execution_count": 131,
   "id": "433baf16-030b-4d14-8fe0-0f1df834b0af",
   "metadata": {},
   "outputs": [],
   "source": [
    "from sklearn.metrics import r2_score"
   ]
  },
  {
   "cell_type": "code",
   "execution_count": 132,
   "id": "e03c57b2-e879-4f15-9f7a-07c5b6eff4b5",
   "metadata": {},
   "outputs": [],
   "source": [
    "score = r2_score(y_test,y_pred)"
   ]
  },
  {
   "cell_type": "code",
   "execution_count": 134,
   "id": "3406a713-af12-4a9e-8969-5870d327f5c6",
   "metadata": {},
   "outputs": [
    {
     "data": {
      "text/plain": [
       "-0.3271291240830687"
      ]
     },
     "execution_count": 134,
     "metadata": {},
     "output_type": "execute_result"
    }
   ],
   "source": [
    "score"
   ]
  },
  {
   "cell_type": "code",
   "execution_count": null,
   "id": "bd7e8386-8133-466d-9f42-0d137490647a",
   "metadata": {},
   "outputs": [],
   "source": []
  }
 ],
 "metadata": {
  "kernelspec": {
   "display_name": "Python 3 (ipykernel)",
   "language": "python",
   "name": "python3"
  },
  "language_info": {
   "codemirror_mode": {
    "name": "ipython",
    "version": 3
   },
   "file_extension": ".py",
   "mimetype": "text/x-python",
   "name": "python",
   "nbconvert_exporter": "python",
   "pygments_lexer": "ipython3",
   "version": "3.12.7"
  }
 },
 "nbformat": 4,
 "nbformat_minor": 5
}
